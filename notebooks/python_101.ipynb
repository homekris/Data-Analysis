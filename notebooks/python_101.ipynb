{
 "cells": [
  {
   "cell_type": "code",
   "execution_count": 4,
   "metadata": {},
   "outputs": [
    {
     "name": "stdout",
     "output_type": "stream",
     "text": [
      "[0, 11, 12]\n"
     ]
    }
   ],
   "source": [
    "def list_search(x, y):\n",
    "    return(list(set(x) & set(y)))\n",
    "\n",
    "\n",
    "list_1 = [11, 12, 13, 15, 0]\n",
    "list_2 = [11, 12, 14, 0, 1]\n",
    "print(list_search(list_1, list_2))"
   ]
  }
 ],
 "metadata": {
  "kernelspec": {
   "display_name": "Python 3",
   "language": "python",
   "name": "python3"
  },
  "language_info": {
   "codemirror_mode": {
    "name": "ipython",
    "version": 3
   },
   "file_extension": ".py",
   "mimetype": "text/x-python",
   "name": "python",
   "nbconvert_exporter": "python",
   "pygments_lexer": "ipython3",
   "version": "3.8.5"
  }
 },
 "nbformat": 4,
 "nbformat_minor": 4
}
