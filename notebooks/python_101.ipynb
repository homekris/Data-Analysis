{
  "nbformat": 4,
  "nbformat_minor": 0,
  "metadata": {
    "kernelspec": {
      "display_name": "Python 3",
      "language": "python",
      "name": "python3"
    },
    "language_info": {
      "codemirror_mode": {
        "name": "ipython",
        "version": 3
      },
      "file_extension": ".py",
      "mimetype": "text/x-python",
      "name": "python",
      "nbconvert_exporter": "python",
      "pygments_lexer": "ipython3",
      "version": "3.8.5"
    },
    "colab": {
      "name": "python_101.ipynb",
      "provenance": [],
      "collapsed_sections": []
    }
  },
  "cells": [
    {
      "cell_type": "code",
      "metadata": {
        "id": "exIFEHxitZAz"
      },
      "source": [
        "def list_search(x, y):\n",
        "    return(list(set(x) & set(y)))"
      ],
      "execution_count": 1,
      "outputs": []
    },
    {
      "cell_type": "code",
      "metadata": {
        "colab": {
          "base_uri": "https://localhost:8080/"
        },
        "id": "mkRwe1WGtb5-",
        "outputId": "e42fdb7b-6b01-43cc-da5e-8980be343b11"
      },
      "source": [
        "list_1 = [11, 12, 13, 15, 0]\r\n",
        "list_2 = [11, 12, 14, 0, 1]\r\n",
        "print(list_search(list_1, list_2))"
      ],
      "execution_count": 2,
      "outputs": [
        {
          "output_type": "stream",
          "text": [
            "[0, 11, 12]\n"
          ],
          "name": "stdout"
        }
      ]
    }
  ]
}