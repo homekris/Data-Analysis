def list_search(x, y):
    return(list(set(x) & set(y)))


list_1 = [11, 12, 13, 15, 0]
list_2 = [11, 12, 14, 0, 1]
print(list_search(list_1, list_2))
